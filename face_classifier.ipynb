{
 "cells": [
  {
   "cell_type": "code",
   "execution_count": 1,
   "metadata": {
    "collapsed": true
   },
   "outputs": [],
   "source": [
    "import argparse\n",
    "import sys\n",
    "import time\n",
    "import numpy as np\n",
    "import matplotlib.pyplot as plt\n",
    "\n",
    "from data import get_training_data, get_testing_data\n",
    "from logistic_regression import classification_rate, logistic_fit, logistic_prob"
   ]
  },
  {
   "cell_type": "code",
   "execution_count": 2,
   "metadata": {
    "collapsed": true
   },
   "outputs": [],
   "source": [
    "def plot_errors(predicted, classes):\n",
    "    nthresh = 99\n",
    "    npts = predicted.size\n",
    "    falsepos = np.zeros(nthresh)\n",
    "    falseneg = np.zeros(nthresh)\n",
    "\n",
    "    stepsize = 1 / (nthresh + 1)\n",
    "\n",
    "    for i in range(nthresh):\n",
    "        thresh = (i+1) * stepsize\n",
    "        falsepos[i] = np.sum((predicted >= thresh) & (classes == 0)) / npts\n",
    "        falseneg[i] = np.sum((predicted < thresh) & (classes == 1)) / npts\n",
    "\n",
    "    limit = 1e-4\n",
    "    plt.loglog(np.maximum(falsepos, limit), np.maximum(falseneg, limit), 'o')\n",
    "    plt.title('Performance on training set for varying threshold')\n",
    "    plt.xlabel('False positive rate')\n",
    "    plt.ylabel('False negative rate')\n",
    "    plt.xlim([limit,1])\n",
    "    plt.ylim([limit,1])\n",
    "    plt.show()"
   ]
  },
  {
   "cell_type": "code",
   "execution_count": 9,
   "metadata": {
    "collapsed": true
   },
   "outputs": [],
   "source": [
    "ntrain = 6000\n",
    "ntest = 500\n",
    "orientations = 9\n",
    "wrap180 = False"
   ]
  },
  {
   "cell_type": "code",
   "execution_count": 10,
   "metadata": {
    "collapsed": false
   },
   "outputs": [
    {
     "name": "stdout",
     "output_type": "stream",
     "text": [
      "Loading training data...\n"
     ]
    },
    {
     "name": "stderr",
     "output_type": "stream",
     "text": [
      "100% (12000 of 12000) |###################| Elapsed Time: 0:02:27 Time: 0:02:27\n"
     ]
    },
    {
     "name": "stdout",
     "output_type": "stream",
     "text": [
      "Finished loading training data.\n",
      "Loading test data...\n"
     ]
    },
    {
     "name": "stderr",
     "output_type": "stream",
     "text": [
      "100% (1000 of 1000) |#####################| Elapsed Time: 0:00:08 Time: 0:00:08\n"
     ]
    },
    {
     "name": "stdout",
     "output_type": "stream",
     "text": [
      "Finished loading test data.\n"
     ]
    }
   ],
   "source": [
    "sys.stdout.write(\"Loading training data...\\n\")\n",
    "sys.stdout.flush()\n",
    "descriptors_train, classes_train = get_training_data(ntrain, orientations, wrap180=wrap180)\n",
    "sys.stdout.write(\"Finished loading training data.\\n\")\n",
    "sys.stdout.flush()\n",
    "sys.stdout.write(\"Loading test data...\\n\")\n",
    "sys.stdout.flush()\n",
    "descriptors_test, classes_test = get_testing_data(ntest, orientations, wrap180=wrap180)\n",
    "sys.stdout.write(\"Finished loading test data.\\n\")\n",
    "sys.stdout.flush()"
   ]
  },
  {
   "cell_type": "code",
   "execution_count": 11,
   "metadata": {
    "collapsed": false
   },
   "outputs": [
    {
     "name": "stdout",
     "output_type": "stream",
     "text": [
      "Start training...\n",
      "error at iter 0: 0.08834287851576673\n",
      "error at iter 0: 0.02141089526157428\n",
      "error at iter 0: 0.009410364266384651\n",
      "error at iter 0: 0.006481394917885981\n",
      "error at iter 0: 0.005455049614982676\n",
      "error at iter 0: 0.004892932806541851\n",
      "Training took 33.90128993988037 seconds.\n"
     ]
    },
    {
     "data": {
      "image/png": "[encoded data removed]",
      "text/plain": [
       "<matplotlib.figure.Figure at 0x1018f2c88>"
      ]
     },
     "metadata": {},
     "output_type": "display_data"
    },
    {
     "name": "stdout",
     "output_type": "stream",
     "text": [
      "Training classification rate: 0.9963333333333333\n"
     ]
    },
    {
     "data": {
      "image/png": "[encoded data removed]",
      "text/plain": [
       "<matplotlib.figure.Figure at 0x107f2e9e8>"
      ]
     },
     "metadata": {},
     "output_type": "display_data"
    },
    {
     "name": "stdout",
     "output_type": "stream",
     "text": [
      "Testing classification rate: 0.991\n"
     ]
    }
   ],
   "source": [
    "print(\"Start training...\")\n",
    "start_time = time.time()\n",
    "params, _ = logistic_fit(descriptors_train, classes_train)\n",
    "print(\"Training took {} seconds.\".format(time.time()-start_time))\n",
    "\n",
    "predicted_train = logistic_prob(descriptors_train, params)\n",
    "plot_errors(predicted_train, classes_train)\n",
    "\n",
    "train_success_rate = classification_rate(predicted_train, classes_train)\n",
    "print(\"Training classification rate: {}\".format(train_success_rate))\n",
    "\n",
    "predicted_test = logistic_prob(descriptors_test, params)\n",
    "plot_errors(predicted_test, classes_test)\n",
    "\n",
    "test_success_rate = classification_rate(predicted_test, classes_test)\n",
    "print(\"Testing classification rate: {}\".format(test_success_rate))"
   ]
  },
  {
   "cell_type": "code",
   "execution_count": null,
   "metadata": {
    "collapsed": true
   },
   "outputs": [],
   "source": []
  }
 ],
 "metadata": {
  "kernelspec": {
   "display_name": "env",
   "language": "python",
   "name": "env"
  },
  "language_info": {
   "codemirror_mode": {
    "name": "ipython",
    "version": 3
   },
   "file_extension": ".py",
   "mimetype": "text/x-python",
   "name": "python",
   "nbconvert_exporter": "python",
   "pygments_lexer": "ipython3",
   "version": "3.5.1"
  }
 },
 "nbformat": 4,
 "nbformat_minor": 2
}
